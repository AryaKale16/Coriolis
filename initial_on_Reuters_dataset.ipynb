{
  "nbformat": 4,
  "nbformat_minor": 0,
  "metadata": {
    "colab": {
      "provenance": []
    },
    "kernelspec": {
      "name": "python3",
      "display_name": "Python 3"
    },
    "language_info": {
      "name": "python"
    }
  },
  "cells": [
    {
      "cell_type": "code",
      "source": [
        "import math\n",
        "import nltk\n",
        "nltk.download('punkt')\n",
        "nltk.download('stopwords')\n",
        "nltk.download('reuters')\n",
        "from nltk.corpus import stopwords\n",
        "from collections import defaultdict\n",
        "from nltk.corpus import reuters\n",
        "\n",
        "# Step 1: Collect the corpus\n",
        "corpus = reuters.fileids()\n",
        "corpus = [reuters.raw(fileid) for fileid in corpus]\n",
        "\n",
        "\n",
        "# # Step 1: Collect the corpus\n",
        "# corpus = ['This is the first document.',\n",
        "#           'First document is good.',\n",
        "#           'for the best document refer the first',\n",
        "#           'THIS IS THE FIRST DOCUMENT',\n",
        "#           'This is the second document.',\n",
        "#           'And this is the third one.',\n",
        "#           'Is this the first document?']\n",
        "\n",
        "# Step 2: Preprocess the documents\n",
        "def preprocess(text):\n",
        "    # Tokenize the text into words\n",
        "    words = nltk.word_tokenize(text.lower())\n",
        "    \n",
        "    # Remove stop words and punctuation\n",
        "    words = [word for word in words if word.isalnum() and not word in stopwords.words('english')]\n",
        "    \n",
        "    # Stem the words\n",
        "    stemmer = nltk.stem.PorterStemmer()\n",
        "    words = [stemmer.stem(word) for word in words]\n",
        "    \n",
        "    return words\n",
        "\n",
        "corpus = [preprocess(text) for text in corpus]\n",
        "\n",
        "# Step 3: Calculate term frequencies\n",
        "def calculate_tf(document):\n",
        "    tf = defaultdict(int)\n",
        "    for word in document:\n",
        "        tf[word] += 1\n",
        "    return tf\n",
        "\n",
        "tf_corpus = [calculate_tf(document) for document in corpus]\n",
        "\n",
        "# Step 4: Calculate inverse document frequency (IDF)\n",
        "def calculate_idf(corpus):\n",
        "    N = len(corpus)\n",
        "    idf = defaultdict(float)\n",
        "    for document in corpus:\n",
        "        for word in document:\n",
        "            idf[word] += 1\n",
        "    \n",
        "    for word in idf:\n",
        "        idf[word] = math.log(N / idf[word])\n",
        "    \n",
        "    return idf\n",
        "\n",
        "idf = calculate_idf(corpus)\n",
        "\n",
        "# Step 5: Calculate document length\n",
        "def calculate_document_length(document):\n",
        "    length = 0\n",
        "    for word in document:\n",
        "        length += tf_corpus[corpus.index(document)][word] * idf[word] ** 2\n",
        "    return math.sqrt(length)\n",
        "\n",
        "document_lengths = [calculate_document_length(document) for document in corpus]\n",
        "\n",
        "# Step 6: Build the index\n",
        "index = defaultdict(list)\n",
        "for i, document in enumerate(corpus):\n",
        "    for word in set(document):\n",
        "        index[word].append((i, tf_corpus[i][word], idf[word]))\n",
        "\n",
        "# Step 7: Perform the query\n",
        "def perform_query(query, idf):\n",
        "    query = preprocess(query)\n",
        "    query_tf = calculate_tf(query)\n",
        "    query_idf = {word: idf[word] for word in query}\n",
        "    scores = defaultdict(float)\n",
        "    for word in query:\n",
        "        for document, tf, idf in index[word]:\n",
        "            scores[document] += query_tf[word] * tf * idf * query_idf[word]\n",
        "    for document in scores:\n",
        "        scores[document] /= document_lengths[document]\n",
        "    return sorted(scores.items(), key=lambda x: x[1], reverse=True)\n",
        "\n",
        "# Step 8: Rank the results\n",
        "query = \"This is the first document.\"\n",
        "results = perform_query(query, idf)\n",
        "for document, score in results:\n",
        "    print(\"Document:\", document)\n",
        "    print(\"Score:\", score)\n",
        "    print(corpus[document])\n",
        "\n",
        "# Step 9: Build the interface\n",
        "# You can use any web framework like Flask or Django to build a web interface for this. \n"
      ],
      "metadata": {
        "colab": {
          "base_uri": "https://localhost:8080/"
        },
        "id": "X4l_-Ix8WHMD",
        "outputId": "549954f6-0616-4224-a15d-93d053a38a1e"
      },
      "execution_count": null,
      "outputs": [
        {
          "metadata": {
            "tags": null
          },
          "name": "stderr",
          "output_type": "stream",
          "text": [
            "[nltk_data] Downloading package punkt to /root/nltk_data...\n",
            "[nltk_data]   Unzipping tokenizers/punkt.zip.\n",
            "[nltk_data] Downloading package stopwords to /root/nltk_data...\n",
            "[nltk_data]   Unzipping corpora/stopwords.zip.\n",
            "[nltk_data] Downloading package reuters to /root/nltk_data...\n"
          ]
        }
      ]
    }
  ]
}